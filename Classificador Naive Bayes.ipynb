{
 "cells": [
  {
   "cell_type": "markdown",
   "metadata": {},
   "source": [
    "# 🎓 Classificador Naive Bayes\n"
   ]
  },
  {
   "cell_type": "markdown",
   "metadata": {},
   "source": [
    "Suponha que você seja um gerente de produto e queira classificar as avaliações dos clientes em classes positivas e negativas. Ou Como gerente de empréstimos, você deseja identificar quais solicitantes de empréstimos são seguros ou arriscados? Como analista de saúde, você deseja prever quais pacientes podem sofrer de diabetes. Todos os exemplos têm o mesmo tipo de problema para classificar avaliações, solicitantes de empréstimos e pacientes. \n",
    "\n",
    "Naive Bayes é o algoritmo de classificação mais direto e rápido, adequado para uma grande quantidade de dados. O classificador Naive Bayes é usado com sucesso em várias aplicações, como filtragem de spam, classificação de texto, análise de sentimentos e sistemas de recomendação. Ele usa o teorema de probabilidade de Bayes para predição de classe desconhecida.\n",
    "\n",
    "Naive Bayes é o algoritmo mais direto e potente. Apesar dos avanços significativos do Machine Learning nos últimos dois anos, ele provou seu valor. Ele foi implantado com sucesso em muitos aplicativos, desde análise de texto até mecanismos de recomendação.\n",
    "\n",
    "**Vantagens**\n",
    "* Não é apenas uma abordagem simples, mas também um método rápido e preciso de previsão.\n",
    "* Naive Bayes tem um custo computacional muito baixo.\n",
    "* Ele pode trabalhar com eficiência em um grande conjunto de dados.\n",
    "* Ele funciona bem no caso de variável de resposta discreta em comparação com a variável contínua.\n",
    "* Ele pode ser usado com problemas de previsão de várias classes.\n",
    "* Ele também funciona bem no caso de problemas de análise de texto.\n",
    "* Quando a suposição de independência é válida, um classificador Naive Bayes tem um desempenho melhor em comparação com outros modelos, como regressão logística.\n",
    "\n",
    "\n",
    "**Desvantagens**\n",
    "* A suposição de características independentes. Na prática, é quase impossível que o modelo obtenha um conjunto de preditores totalmente independentes.\n",
    "* Se não houver nenhuma tupla de treinamento de uma classe específica, isso causa probabilidade posterior zero. Nesse caso, o modelo é incapaz de fazer previsões. Este problema é conhecido como Zero Probability/Frequency Problem."
   ]
  },
  {
   "cell_type": "markdown",
   "metadata": {},
   "source": [
    "## O que é classificador Naive Bayes?\n",
    "\n",
    "Naive Bayes é uma técnica de classificação estatística baseada no Teorema de Bayes. É um dos algoritmos de aprendizado supervisionado mais simples. O classificador Naive Bayes é o algoritmo rápido, preciso e confiável. Os classificadores Naive Bayes têm alta precisão e velocidade em grandes conjuntos de dados.\n",
    "\n",
    "O classificador Naive Bayes assume que o efeito de um determinado recurso em uma classe é independente de outros recursos. Por exemplo, um solicitante de empréstimo é desejável ou não, dependendo de sua renda, histórico de empréstimos e transações anteriores, idade e localização. Mesmo que esses recursos sejam interdependentes, eles ainda são considerados de forma independente. Essa suposição simplifica a computação e é por isso que é considerada **ingênua** (Naive). Essa suposição é chamada de independência condicional de classe.\n",
    "\n",
    "$$\n",
    "P(A|B) = \\frac{P(B|A) P(A)}{P(B)}\n",
    "$$\n",
    "\n",
    "* $P(A)$: a probabilidade da hipótese A ser verdadeira (independentemente dos dados). Isso é conhecido como a probabilidade anterior de A.\n",
    "* $P(B)$: a probabilidade dos dados (independentemente da hipótese). Isso é conhecido como a probabilidade anterior.\n",
    "* $P(A|B)$: a probabilidade da hipótese A dado os dados B. Isso é conhecido como probabilidade posterior.\n",
    "* $P(B|A)$: a probabilidade de A dado que a hipótese B era verdadeira. Isso é conhecido como probabilidade posterior."
   ]
  },
  {
   "cell_type": "markdown",
   "metadata": {},
   "source": [
    "## Como funciona o classificador Naive Bayes?\n",
    "\n",
    "Dado um exemplo de condições meteorológicas e praticar esportes. Você precisa calcular a probabilidade de praticar esportes. Agora, você precisa classificar se os jogadores vão jogar ou não, com base nas condições climáticas.\n",
    "\n",
    "### Primeira abordagem (no caso de um único recurso)\n",
    "O classificador Naive Bayes calcula a probabilidade de um evento nas seguintes etapas:\n",
    "1. Calcular a probabilidade anterior para determinados rótulos de classe\n",
    "2. encontre a probabilidade de verossimilhança com cada atributo para cada classe\n",
    "3. Colocar esses valores na Fórmula Bayes e calcule a probabilidade posterior.\n",
    "4. Veja qual classe tem maior probabilidade, dado que a entrada pertence à classe de maior probabilidade.\n",
    "\n",
    "Para simplificar o cálculo de probabilidade anterior e posterior, você pode usar as duas tabelas de frequência e de probabilidade. Ambas as tabelas ajudarão você a calcular a probabilidade anterior e posterior. A tabela Frequência contém a ocorrência de rótulos para todos os recursos. Existem duas tabelas de probabilidade. A Tabela de Verossimilhança 1 mostra as probabilidades anteriores de rótulos e a Tabela de Verossimilhança 2 mostra a probabilidade posterior.\n",
    "\n",
    "<center><img src=\"https://res.cloudinary.com/dyd911kmh/image/upload/f_auto,q_auto:best/v1543836883/image_4_lyi0ob.png\"/></center>\n",
    "\n",
    "**A probabilidade de jogar é:**\n",
    "\n",
    "$$\n",
    "P(Yes | Overcast) = \\frac{P(Overcast | Yes) ~P(Yes)}{P(Overcast)} \n",
    "$$\n",
    "\n",
    "* Cálculo da probabiladade anterior\n",
    "\n",
    "$$P(Overcast) = 4/14 = 0.29$$\n",
    "\n",
    "$$P(Yes)= 9/14 = 0.64$$\n",
    "\n",
    "* Cálculo da probabilidade posterior\n",
    "\n",
    "$$P(Overcast |Yes) = 4/9 = 0.44$$\n",
    "\n",
    "* Substituir na equação\n",
    "\n",
    "$$P (Yes | Overcast) = \\frac{0.44 * 0.64}{0.29} = 0.98 $$\n",
    "\n",
    "**A probabilidade de não jogar é:**\n",
    "\n",
    "$$\n",
    "P(No | Overcast) = \\frac{P(Overcast | No) ~P(No)}{P(Overcast)} \n",
    "$$\n",
    "\n",
    "* Cálculo da probabiladade anterior\n",
    "\n",
    "$$P(Overcast) = 4/14 = 0.29$$\n",
    "\n",
    "$$P(No)= 5/14 = 0.36$$\n",
    "\n",
    "* Cálculo da probabilidade posterior\n",
    "\n",
    "$$P(Overcast |No) = 0/9 = 0$$\n",
    "\n",
    "* Substituir na equação\n",
    "\n",
    "$$P (No | Overcast) = \\frac{0 * 0.36}{0.29} = 0$$\n",
    "\n",
    "> A probabilidade de uma classe 'Sim' é maior. Assim, você pode determinar aqui se o tempo está nublado do que os jogadores vão praticar o esporte.\n",
    "\n",
    "Note que somente o numerador da equação é necessário para a classificação!\n",
    "\n",
    "### Segunda abordagem (no caso de vários recursos)\n",
    "\n",
    "1. Calcular a probabilidade anterior para determinados rótulos de classe\n",
    "\n",
    "2. Calcule a probabilidade condicional com cada atributo para cada classe\n",
    "\n",
    "3. Multiplicar a probabilidade condicional da mesma classe\n",
    "\n",
    "4. Veja qual classe tem maior probabilidade, a classe de maior probabilidade pertence a determinada etapa de conjunto de entrada"
   ]
  },
  {
   "cell_type": "code",
   "execution_count": 1,
   "metadata": {},
   "outputs": [],
   "source": [
    "import warnings\n",
    "warnings.filterwarnings(\"ignore\")"
   ]
  },
  {
   "cell_type": "markdown",
   "metadata": {},
   "source": [
    "### Criando o classificador no Scikit Learn\n",
    "\n",
    "Vamos treinar um modelo para saber se uma pessoa irá jogar (play) baseado no tempo e temperatura. Importe os dados executando a célula a seguir:"
   ]
  },
  {
   "cell_type": "code",
   "execution_count": 2,
   "metadata": {},
   "outputs": [
    {
     "data": {
      "text/html": [
       "<div>\n",
       "<style scoped>\n",
       "    .dataframe tbody tr th:only-of-type {\n",
       "        vertical-align: middle;\n",
       "    }\n",
       "\n",
       "    .dataframe tbody tr th {\n",
       "        vertical-align: top;\n",
       "    }\n",
       "\n",
       "    .dataframe thead th {\n",
       "        text-align: right;\n",
       "    }\n",
       "</style>\n",
       "<table border=\"1\" class=\"dataframe\">\n",
       "  <thead>\n",
       "    <tr style=\"text-align: right;\">\n",
       "      <th></th>\n",
       "      <th>weather</th>\n",
       "      <th>temp</th>\n",
       "      <th>play</th>\n",
       "    </tr>\n",
       "  </thead>\n",
       "  <tbody>\n",
       "    <tr>\n",
       "      <th>0</th>\n",
       "      <td>Sunny</td>\n",
       "      <td>Hot</td>\n",
       "      <td>No</td>\n",
       "    </tr>\n",
       "    <tr>\n",
       "      <th>1</th>\n",
       "      <td>Sunny</td>\n",
       "      <td>Hot</td>\n",
       "      <td>No</td>\n",
       "    </tr>\n",
       "    <tr>\n",
       "      <th>2</th>\n",
       "      <td>Overcast</td>\n",
       "      <td>Hot</td>\n",
       "      <td>Yes</td>\n",
       "    </tr>\n",
       "    <tr>\n",
       "      <th>3</th>\n",
       "      <td>Rainy</td>\n",
       "      <td>Mild</td>\n",
       "      <td>Yes</td>\n",
       "    </tr>\n",
       "    <tr>\n",
       "      <th>4</th>\n",
       "      <td>Rainy</td>\n",
       "      <td>Cool</td>\n",
       "      <td>Yes</td>\n",
       "    </tr>\n",
       "    <tr>\n",
       "      <th>5</th>\n",
       "      <td>Rainy</td>\n",
       "      <td>Cool</td>\n",
       "      <td>No</td>\n",
       "    </tr>\n",
       "    <tr>\n",
       "      <th>6</th>\n",
       "      <td>Overcast</td>\n",
       "      <td>Cool</td>\n",
       "      <td>Yes</td>\n",
       "    </tr>\n",
       "    <tr>\n",
       "      <th>7</th>\n",
       "      <td>Sunny</td>\n",
       "      <td>Mild</td>\n",
       "      <td>No</td>\n",
       "    </tr>\n",
       "    <tr>\n",
       "      <th>8</th>\n",
       "      <td>Sunny</td>\n",
       "      <td>Cool</td>\n",
       "      <td>Yes</td>\n",
       "    </tr>\n",
       "    <tr>\n",
       "      <th>9</th>\n",
       "      <td>Rainy</td>\n",
       "      <td>Mild</td>\n",
       "      <td>Yes</td>\n",
       "    </tr>\n",
       "    <tr>\n",
       "      <th>10</th>\n",
       "      <td>Sunny</td>\n",
       "      <td>Mild</td>\n",
       "      <td>Yes</td>\n",
       "    </tr>\n",
       "    <tr>\n",
       "      <th>11</th>\n",
       "      <td>Overcast</td>\n",
       "      <td>Mild</td>\n",
       "      <td>Yes</td>\n",
       "    </tr>\n",
       "    <tr>\n",
       "      <th>12</th>\n",
       "      <td>Overcast</td>\n",
       "      <td>Hot</td>\n",
       "      <td>Yes</td>\n",
       "    </tr>\n",
       "    <tr>\n",
       "      <th>13</th>\n",
       "      <td>Rainy</td>\n",
       "      <td>Mild</td>\n",
       "      <td>No</td>\n",
       "    </tr>\n",
       "  </tbody>\n",
       "</table>\n",
       "</div>"
      ],
      "text/plain": [
       "     weather  temp play\n",
       "0      Sunny   Hot   No\n",
       "1      Sunny   Hot   No\n",
       "2   Overcast   Hot  Yes\n",
       "3      Rainy  Mild  Yes\n",
       "4      Rainy  Cool  Yes\n",
       "5      Rainy  Cool   No\n",
       "6   Overcast  Cool  Yes\n",
       "7      Sunny  Mild   No\n",
       "8      Sunny  Cool  Yes\n",
       "9      Rainy  Mild  Yes\n",
       "10     Sunny  Mild  Yes\n",
       "11  Overcast  Mild  Yes\n",
       "12  Overcast   Hot  Yes\n",
       "13     Rainy  Mild   No"
      ]
     },
     "execution_count": 2,
     "metadata": {},
     "output_type": "execute_result"
    }
   ],
   "source": [
    "import pandas as pd\n",
    "\n",
    "df = pd.DataFrame({\n",
    "    'weather': ['Sunny','Sunny','Overcast','Rainy','Rainy','Rainy','Overcast','Sunny','Sunny', 'Rainy','Sunny','Overcast','Overcast','Rainy'], \n",
    "    'temp': ['Hot','Hot','Hot','Mild','Cool','Cool','Cool','Mild','Cool','Mild','Mild','Mild','Hot','Mild'],\n",
    "    'play':['No','No','Yes','Yes','Yes','No','Yes','No','Yes','Yes','Yes','Yes','Yes','No']\n",
    "    })\n",
    "df    "
   ]
  },
  {
   "cell_type": "markdown",
   "metadata": {},
   "source": [
    "Faça a encodificação dos valores categóricos em números (fatores):"
   ]
  },
  {
   "cell_type": "code",
   "execution_count": 3,
   "metadata": {},
   "outputs": [
    {
     "data": {
      "text/html": [
       "<div>\n",
       "<style scoped>\n",
       "    .dataframe tbody tr th:only-of-type {\n",
       "        vertical-align: middle;\n",
       "    }\n",
       "\n",
       "    .dataframe tbody tr th {\n",
       "        vertical-align: top;\n",
       "    }\n",
       "\n",
       "    .dataframe thead th {\n",
       "        text-align: right;\n",
       "    }\n",
       "</style>\n",
       "<table border=\"1\" class=\"dataframe\">\n",
       "  <thead>\n",
       "    <tr style=\"text-align: right;\">\n",
       "      <th></th>\n",
       "      <th>weather</th>\n",
       "      <th>temp</th>\n",
       "      <th>play</th>\n",
       "    </tr>\n",
       "  </thead>\n",
       "  <tbody>\n",
       "    <tr>\n",
       "      <th>0</th>\n",
       "      <td>0</td>\n",
       "      <td>0</td>\n",
       "      <td>0</td>\n",
       "    </tr>\n",
       "    <tr>\n",
       "      <th>1</th>\n",
       "      <td>0</td>\n",
       "      <td>0</td>\n",
       "      <td>0</td>\n",
       "    </tr>\n",
       "    <tr>\n",
       "      <th>2</th>\n",
       "      <td>1</td>\n",
       "      <td>0</td>\n",
       "      <td>1</td>\n",
       "    </tr>\n",
       "    <tr>\n",
       "      <th>3</th>\n",
       "      <td>2</td>\n",
       "      <td>1</td>\n",
       "      <td>1</td>\n",
       "    </tr>\n",
       "    <tr>\n",
       "      <th>4</th>\n",
       "      <td>2</td>\n",
       "      <td>2</td>\n",
       "      <td>1</td>\n",
       "    </tr>\n",
       "    <tr>\n",
       "      <th>5</th>\n",
       "      <td>2</td>\n",
       "      <td>2</td>\n",
       "      <td>0</td>\n",
       "    </tr>\n",
       "    <tr>\n",
       "      <th>6</th>\n",
       "      <td>1</td>\n",
       "      <td>2</td>\n",
       "      <td>1</td>\n",
       "    </tr>\n",
       "    <tr>\n",
       "      <th>7</th>\n",
       "      <td>0</td>\n",
       "      <td>1</td>\n",
       "      <td>0</td>\n",
       "    </tr>\n",
       "    <tr>\n",
       "      <th>8</th>\n",
       "      <td>0</td>\n",
       "      <td>2</td>\n",
       "      <td>1</td>\n",
       "    </tr>\n",
       "    <tr>\n",
       "      <th>9</th>\n",
       "      <td>2</td>\n",
       "      <td>1</td>\n",
       "      <td>1</td>\n",
       "    </tr>\n",
       "    <tr>\n",
       "      <th>10</th>\n",
       "      <td>0</td>\n",
       "      <td>1</td>\n",
       "      <td>1</td>\n",
       "    </tr>\n",
       "    <tr>\n",
       "      <th>11</th>\n",
       "      <td>1</td>\n",
       "      <td>1</td>\n",
       "      <td>1</td>\n",
       "    </tr>\n",
       "    <tr>\n",
       "      <th>12</th>\n",
       "      <td>1</td>\n",
       "      <td>0</td>\n",
       "      <td>1</td>\n",
       "    </tr>\n",
       "    <tr>\n",
       "      <th>13</th>\n",
       "      <td>2</td>\n",
       "      <td>1</td>\n",
       "      <td>0</td>\n",
       "    </tr>\n",
       "  </tbody>\n",
       "</table>\n",
       "</div>"
      ],
      "text/plain": [
       "    weather  temp  play\n",
       "0         0     0     0\n",
       "1         0     0     0\n",
       "2         1     0     1\n",
       "3         2     1     1\n",
       "4         2     2     1\n",
       "5         2     2     0\n",
       "6         1     2     1\n",
       "7         0     1     0\n",
       "8         0     2     1\n",
       "9         2     1     1\n",
       "10        0     1     1\n",
       "11        1     1     1\n",
       "12        1     0     1\n",
       "13        2     1     0"
      ]
     },
     "execution_count": 3,
     "metadata": {},
     "output_type": "execute_result"
    }
   ],
   "source": [
    "df = df.apply(lambda w: pd.factorize(w)[0])\n",
    "df"
   ]
  },
  {
   "cell_type": "markdown",
   "metadata": {},
   "source": [
    "**Classificador Naive Bayes para modelos multinomiais.**\n",
    "\n",
    "O classificador multinomial Naive Bayes é adequado para classificação com características discretas (por exemplo, contagem de palavras para classificação de texto). A distribuição multinomial normalmente requer contagens de recursos inteiros. No entanto, na prática, contagens fracionárias como tf-idf também podem funcionar.\n",
    "\n",
    "Importe aqui o classificador Multinomial Naive Bayes do Scikit Learn:"
   ]
  },
  {
   "cell_type": "code",
   "execution_count": 4,
   "metadata": {},
   "outputs": [],
   "source": [
    "from sklearn.naive_bayes import MultinomialNB"
   ]
  },
  {
   "cell_type": "markdown",
   "metadata": {},
   "source": [
    "Treine o modelo para a totalidade do conjunto de dados. Lembres-se que nossas features são `weather` e\t`temp` e nosso target é `play`."
   ]
  },
  {
   "cell_type": "code",
   "execution_count": 5,
   "metadata": {},
   "outputs": [],
   "source": [
    "features = df[['weather','temp']]\n",
    "target = df[['play']]\n",
    "\n",
    "classifier = MultinomialNB()\n",
    "model = classifier.fit(features, target)"
   ]
  },
  {
   "cell_type": "markdown",
   "metadata": {},
   "source": [
    "Faça agora a previsão para `weather -> Overcast` e `temp -> Mild`."
   ]
  },
  {
   "cell_type": "code",
   "execution_count": 6,
   "metadata": {},
   "outputs": [
    {
     "data": {
      "text/plain": [
       "array([1], dtype=int64)"
      ]
     },
     "execution_count": 6,
     "metadata": {},
     "output_type": "execute_result"
    }
   ],
   "source": [
    "prevision = [[1,1]]\n",
    "model.predict(prevision)"
   ]
  },
  {
   "cell_type": "markdown",
   "metadata": {},
   "source": [
    "## Configurando o classificador para o Wine dataset"
   ]
  },
  {
   "cell_type": "markdown",
   "metadata": {},
   "source": [
    "Na parte de construção do modelo, você pode usar o conjunto de dados do vinho, que é um problema de classificação multiclasse muito famoso. “Este conjunto de dados é o resultado de uma análise química de vinhos cultivados na mesma região da Itália, mas derivados de três cultivares diferentes”. (UC Irvine) \n",
    "\n",
    "O conjunto de dados é composto por 13 características (álcool, málico_ácido, cinzas, alcalinidade_de_cinza, magnésio, totais_fenóis, flavonóides, não flavonóides_fenóis, proantocianinas, color_intensity, matiz, od280/od315_of_diluted_wines, prolina) e tipo de cultivar de vinho. \n",
    "\n",
    "Esses dados têm três tipos de vinho Class_0, Class_1 e Class_3. Aqui você pode construir um modelo para classificar o tipo de vinho. O conjunto de dados está disponível na biblioteca scikit-learn.\n",
    "\n",
    "Como temos dados contínuos no conjuento de dados usaremos o `Gaussian Naive Bayes`."
   ]
  },
  {
   "cell_type": "code",
   "execution_count": 7,
   "metadata": {},
   "outputs": [],
   "source": [
    "from sklearn import datasets\n",
    "from sklearn.naive_bayes import GaussianNB\n",
    "\n",
    "wine = datasets.load_wine()"
   ]
  },
  {
   "cell_type": "markdown",
   "metadata": {},
   "source": [
    "Converta esses dados para um DataFrame do Pandas:"
   ]
  },
  {
   "cell_type": "code",
   "execution_count": 8,
   "metadata": {},
   "outputs": [],
   "source": [
    "X = pd.DataFrame(data = wine.data, columns= wine.feature_names)"
   ]
  },
  {
   "cell_type": "code",
   "execution_count": 9,
   "metadata": {},
   "outputs": [],
   "source": [
    "y = pd.Series(data = wine.target, name='target')"
   ]
  },
  {
   "cell_type": "markdown",
   "metadata": {},
   "source": [
    "Faça a divisão dos dados em 30% para teste e 70% para treino. Use `random_state=109 ` como semente de números aleatórios."
   ]
  },
  {
   "cell_type": "code",
   "execution_count": 10,
   "metadata": {},
   "outputs": [],
   "source": [
    "from sklearn.model_selection import train_test_split\n",
    "X_train, X_test, y_train, y_test = train_test_split(X, y, test_size=0.30, random_state=109)"
   ]
  },
  {
   "cell_type": "markdown",
   "metadata": {},
   "source": [
    "Use o `Gaussian Naive Bayes` para treinar um classificador para esse conjunto de dados. Faça o treinamos somente com os dados destinados para treino:"
   ]
  },
  {
   "cell_type": "code",
   "execution_count": 11,
   "metadata": {},
   "outputs": [],
   "source": [
    "classifier = GaussianNB()\n",
    "model = classifier.fit(X_train, y_train)"
   ]
  },
  {
   "cell_type": "markdown",
   "metadata": {},
   "source": [
    "Faça a previsão para os dados separados para teste e calcule a precisão do modelo:"
   ]
  },
  {
   "cell_type": "code",
   "execution_count": 12,
   "metadata": {},
   "outputs": [
    {
     "data": {
      "text/plain": [
       "array([2])"
      ]
     },
     "execution_count": 12,
     "metadata": {},
     "output_type": "execute_result"
    }
   ],
   "source": [
    "model.predict([[13.40,3.91,2.48,23.0,102.0,1.80,0.75,0.43,1.41,7.30,0.70,1.56,750.0]])"
   ]
  },
  {
   "cell_type": "code",
   "execution_count": 13,
   "metadata": {},
   "outputs": [
    {
     "name": "stdout",
     "output_type": "stream",
     "text": [
      "A acurácia foi de 91%\n"
     ]
    }
   ],
   "source": [
    "from sklearn.metrics import accuracy_score\n",
    "print (\"A acurácia foi de {:.0f}%\".format(accuracy_score(y_test, model.predict(X_test))*100))"
   ]
  },
  {
   "cell_type": "markdown",
   "metadata": {},
   "source": [
    "Use agora dos dados em 30% para teste e 70% para treino. Use `random_state=42 ` como semente de números aleatórios."
   ]
  },
  {
   "cell_type": "code",
   "execution_count": 14,
   "metadata": {},
   "outputs": [
    {
     "data": {
      "text/plain": [
       "array([2])"
      ]
     },
     "execution_count": 14,
     "metadata": {},
     "output_type": "execute_result"
    }
   ],
   "source": [
    "X_train, X_test, y_train, y_test = train_test_split(X, y, test_size=0.30, random_state=42)\n",
    "classifier = GaussianNB()\n",
    "model = classifier.fit(X_train, y_train)\n",
    "model.predict([[13.40,3.91,2.48,23.0,102.0,1.80,0.75,0.43,1.41,7.30,0.70,1.56,750.0]])"
   ]
  },
  {
   "cell_type": "code",
   "execution_count": 15,
   "metadata": {},
   "outputs": [
    {
     "name": "stdout",
     "output_type": "stream",
     "text": [
      "A acurácia foi de 100%\n"
     ]
    }
   ],
   "source": [
    "print (\"A acurácia foi de {:.0f}%\".format(accuracy_score(y_test, model.predict(X_test))*100))"
   ]
  },
  {
   "cell_type": "markdown",
   "metadata": {},
   "source": [
    "## Contornando o Problema de Probabilidade Zero\n",
    "\n",
    "Suponha que não haja tupla para um empréstimo arriscado no conjunto de dados, nesse cenário, a probabilidade a posteriori será zero e o modelo não consegue fazer uma previsão. Esse problema é conhecido como **Probabilidade Zero** porque a ocorrência da classe específica é zero. \n",
    "\n",
    "A solução para tal problema é a correção Laplaciana ou Transformação de Laplace. A correção Laplaciana é uma das técnicas de suavização. Aqui, você pode supor que o conjunto de dados é grande o suficiente para que a adição de uma linha de cada classe não faça diferença na probabilidade estimada. Isso superará a questão dos valores de probabilidade para zero. \n",
    "\n",
    "Por exemplo: suponha que para a classe empréstimo arriscado, existam 1000 linhas de treinamento no banco de dados. Neste banco de dados, a coluna de renda tem 0 correspondências para baixa renda, 990 para renda média e 10 para alta renda. As probabilidades desses eventos, sem a correção Laplaciana, são `0`, 0.990 (de 990/1000) e 0.010 (de 10/1000) \n",
    "\n",
    "Agora, aplique a correção Laplaciana no conjunto de dados fornecido. Vamos adicionar mais 1  para cada par renda-valor. As probabilidades desses eventos:\n",
    "\n",
    "$$\n",
    "\\frac{1}{1003} = 0.001 \\qquad \\frac{991}{1003}=0.988 \\qquad \\frac{11}{1003} = 0.011\n",
    "$$\n",
    "\n",
    "Uma vez que realizamos multiplicações nas probabilidades o zero nos será um problema que é corrgido através desta técnica simples."
   ]
  }
 ],
 "metadata": {
  "kernelspec": {
   "display_name": "Python 3",
   "language": "python",
   "name": "python3"
  },
  "language_info": {
   "codemirror_mode": {
    "name": "ipython",
    "version": 3
   },
   "file_extension": ".py",
   "mimetype": "text/x-python",
   "name": "python",
   "nbconvert_exporter": "python",
   "pygments_lexer": "ipython3",
   "version": "3.9.2"
  },
  "vscode": {
   "interpreter": {
    "hash": "19f8edf9f3d47184070387e5526ef4245906fb1893b7f74c12e591a863440618"
   }
  }
 },
 "nbformat": 4,
 "nbformat_minor": 2
}
